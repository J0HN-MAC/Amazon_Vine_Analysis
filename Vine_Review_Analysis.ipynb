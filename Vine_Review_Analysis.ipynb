{
  "nbformat": 4,
  "nbformat_minor": 0,
  "metadata": {
    "colab": {
      "provenance": []
    },
    "kernelspec": {
      "name": "python3",
      "display_name": "Python 3"
    },
    "language_info": {
      "name": "python"
    }
  },
  "cells": [
    {
      "cell_type": "code",
      "execution_count": 1,
      "metadata": {
        "colab": {
          "base_uri": "https://localhost:8080/"
        },
        "id": "0zTE9BNoczsa",
        "outputId": "c5c6cf48-5c3f-4a69-b5f7-1df03b05449d"
      },
      "outputs": [
        {
          "output_type": "stream",
          "name": "stdout",
          "text": [
            "\r0% [Working]\r            \rGet:1 https://cloud.r-project.org/bin/linux/ubuntu focal-cran40/ InRelease [3,622 B]\n",
            "\r0% [Waiting for headers] [Waiting for headers] [1 InRelease 3,622 B/3,622 B 100\r0% [Waiting for headers] [Waiting for headers] [Waiting for headers] [Waiting f\r                                                                               \rIgn:2 https://developer.download.nvidia.com/compute/machine-learning/repos/ubuntu2004/x86_64  InRelease\n",
            "\r                                                                               \r0% [Waiting for headers] [Waiting for headers] [Waiting for headers]\r                                                                    \rHit:3 http://ppa.launchpad.net/c2d4u.team/c2d4u4.0+/ubuntu focal InRelease\n",
            "\r0% [Waiting for headers] [Waiting for headers] [Waiting for headers] [Connectin\r                                                                               \rHit:4 http://archive.ubuntu.com/ubuntu focal InRelease\n",
            "Hit:5 https://developer.download.nvidia.com/compute/cuda/repos/ubuntu2004/x86_64  InRelease\n",
            "Hit:6 https://developer.download.nvidia.com/compute/machine-learning/repos/ubuntu2004/x86_64  Release\n",
            "Hit:7 http://archive.ubuntu.com/ubuntu focal-updates InRelease\n",
            "Hit:8 http://ppa.launchpad.net/cran/libgit2/ubuntu focal InRelease\n",
            "Hit:9 http://archive.ubuntu.com/ubuntu focal-backports InRelease\n",
            "Hit:10 http://ppa.launchpad.net/deadsnakes/ppa/ubuntu focal InRelease\n",
            "Hit:11 http://ppa.launchpad.net/graphics-drivers/ppa/ubuntu focal InRelease\n",
            "Hit:13 http://security.ubuntu.com/ubuntu focal-security InRelease\n",
            "Fetched 3,622 B in 4s (847 B/s)\n",
            "Reading package lists... Done\n"
          ]
        }
      ],
      "source": [
        "import os\n",
        "# Find the latest version of spark 3.2 from http://www.apache.org/dist/spark/ and enter as the spark version\n",
        "# For example:\n",
        "# spark_version = 'spark-3.2.3'\n",
        "spark_version = 'spark-3.2.3'\n",
        "os.environ['SPARK_VERSION']=spark_version\n",
        "\n",
        "# Install Spark and Java\n",
        "!apt-get update\n",
        "!apt-get install openjdk-11-jdk-headless -qq > /dev/null\n",
        "!wget -q http://www.apache.org/dist/spark/$SPARK_VERSION/$SPARK_VERSION-bin-hadoop2.7.tgz\n",
        "!tar xf $SPARK_VERSION-bin-hadoop2.7.tgz\n",
        "!pip install -q findspark\n",
        "\n",
        "# Set Environment Variables\n",
        "import os\n",
        "os.environ[\"JAVA_HOME\"] = \"/usr/lib/jvm/java-11-openjdk-amd64\"\n",
        "os.environ[\"SPARK_HOME\"] = f\"/content/{spark_version}-bin-hadoop2.7\"\n",
        "\n",
        "# Start a SparkSession\n",
        "import findspark\n",
        "findspark.init()"
      ]
    },
    {
      "cell_type": "code",
      "source": [
        "from pyspark.sql import SparkSession\n",
        "spark = SparkSession.builder.appName(\"M17-Amazon-Challenge\").config(\"spark.driver.extraClassPath\",\"/content/postgresql-42.2.16.jar\").getOrCreate()"
      ],
      "metadata": {
        "id": "K8VXOvC8dkk8"
      },
      "execution_count": 2,
      "outputs": []
    },
    {
      "cell_type": "code",
      "source": [
        "from pyspark import SparkFiles\n",
        "url = \"https://s3.amazonaws.com/amazon-reviews-pds/tsv/amazon_reviews_us_Outdoors_v1_00.tsv.gz\"\n",
        "spark.sparkContext.addFile(url)\n",
        "\n",
        "# Read in the Review dataset as a DataFrame\n",
        "df = spark.read.option(\"encoding\", \"UTF-8\").csv(SparkFiles.get(\"\"), sep=\"\\t\", header=True, inferSchema=True)\n",
        "df.show()"
      ],
      "metadata": {
        "colab": {
          "base_uri": "https://localhost:8080/"
        },
        "id": "D1TYHKgCdktf",
        "outputId": "32e107d8-1bc5-42ae-828d-baf6923793a5"
      },
      "execution_count": 3,
      "outputs": [
        {
          "output_type": "stream",
          "name": "stdout",
          "text": [
            "+-----------+-----------+--------------+----------+--------------+--------------------+----------------+-----------+-------------+-----------+----+-----------------+--------------------+--------------------+-----------+\n",
            "|marketplace|customer_id|     review_id|product_id|product_parent|       product_title|product_category|star_rating|helpful_votes|total_votes|vine|verified_purchase|     review_headline|         review_body|review_date|\n",
            "+-----------+-----------+--------------+----------+--------------+--------------------+----------------+-----------+-------------+-----------+----+-----------------+--------------------+--------------------+-----------+\n",
            "|         US|   18446823|R35T75OLUGHL5C|B000NV6H94|     110804376|Stearns Youth Boa...|        Outdoors|          4|            0|          0|   N|                Y|          Four Stars|          GOOD VALUE| 2015-08-31|\n",
            "|         US|   13724367|R2BV735O46BN33|B000IN0W3Y|     624096774|Primal Wear Men's...|        Outdoors|          5|            0|          0|   N|                Y|          Five Stars|  Excellent quality.| 2015-08-31|\n",
            "|         US|   51001958|R2NBEUGPQQGXP1|B008RBJXFM|     278970944|Osprey Hydraulics...|        Outdoors|          4|            0|          0|   N|                Y|Only Flaw Is The Cap|3rd season using ...| 2015-08-31|\n",
            "|         US|   32866903|R17LLAOJ8ITK0S|B00FK8WUQY|     312877650|CamelBak eddy .75...|        Outdoors|          3|            1|          1|   N|                Y|Poor design leads...|poor construction...| 2015-08-31|\n",
            "|         US|   30907790|R39PEQBT5ISEF4|B00EZA3VW0|     305567912|Children Black Re...|        Outdoors|          1|            0|          0|   N|                Y|Very bad quality,...|Very bad quality,...| 2015-08-31|\n",
            "|         US|   20232229|R3GNM3SU9VHJFT|B006JA8WEG|     842306035|Ibera Bicycle Tri...|        Outdoors|          4|            1|          1|   N|                Y|Nice bag. Should ...|Nice bag. Should ...| 2015-08-31|\n",
            "|         US|   17698862| R2Y81OP0EK467|B002PWFSEO|     451480122|Therm-a-Rest Comp...|        Outdoors|          5|            0|          0|   N|                Y|Very comfortable ...|Gave this to my s...| 2015-08-31|\n",
            "|         US|   38486114|R2LFGSI6HAYH5F|B002DZGKHW|     124386306|Sawyer Products P...|        Outdoors|          5|            1|          1|   N|                Y| Worked like a charm|Went on vacation ...| 2015-08-31|\n",
            "|         US|   26319572|R297G6ED1IQO7W|B00ABA08F6|     991442421|Zippo Hand Warmer...|        Outdoors|          5|            1|          1|   N|                Y|Great item. Gets ...|Great item. Gets ...| 2015-08-31|\n",
            "|         US|   27152337| RE27RFC6101N6|B003Z8WIHC|     886483892|Camp Chef Dutch O...|        Outdoors|          5|            0|          0|   N|                Y|Great value for t...|I am so glad I bo...| 2015-08-31|\n",
            "|         US|   12516845|R3BPDME6E94W8Z|B007CP6UK0|     150224054|3CERA Portable Wi...|        Outdoors|          5|            0|          0|   N|                Y|          Five Stars|        good to have| 2015-08-31|\n",
            "|         US|    3225242|R2P08O1RILUOX3|B003V3U9JK|     343847969|Texsport King Kot...|        Outdoors|          3|            0|          0|   N|                Y|Cot set up inconv...|VERY difficult to...| 2015-08-31|\n",
            "|         US|     961839|R37CVAB03PTDVI|B00Y846HN8|     858088629|Wallygadgets 2 Wh...|        Outdoors|          5|            0|          1|   N|                Y|          Five Stars|Thanks excellent ...| 2015-08-31|\n",
            "|         US|   47796452| RAWNWOGXPCPMD|B00IYQ84VY|     474493517|RainStoppers 34-I...|        Outdoors|          5|            0|          0|   N|                Y|          Five Stars|This umbrella is ...| 2015-08-31|\n",
            "|         US|   32004835| R5DYGP6ASX77M|B002MYCKLY|     920014456|Alpha Deluxe Port...|        Outdoors|          5|            0|          0|   N|                Y|          Five Stars|Love it !! I even...| 2015-08-31|\n",
            "|         US|   23972939|R1O0SAOOGF2KG7|B00EZV69JG|     128489321|Speedfil Z4 BTA B...|        Outdoors|          4|            0|          0|   N|                Y|        Good enough.|This is a fine mo...| 2015-08-31|\n",
            "|         US|   40889047|R35NJUT0U3MU3V|B00AWOT3T8|     571303876|O'Brien Kids Plat...|        Outdoors|          5|            0|          0|   N|                Y| Got Up on First Try|We just bought th...| 2015-08-31|\n",
            "|         US|   11244387|R242C08MF9D1AH|B0000AXTID|     739769424|Kwik-Tek F-5R Pla...|        Outdoors|          5|            0|          0|   N|                Y|They go over an a...|I have these on m...| 2015-08-31|\n",
            "|         US|   20121211| R3RYG8TJTO4E2|B00IFHFJXI|     984009972|Ivation Portable ...|        Outdoors|          5|            0|          0|   N|                Y|Greatest Item I b...|This is the best ...| 2015-08-31|\n",
            "|         US|   25657249|R3IKH1DNY0CP9F|B00KFILTWU|     405521681|GreenInsync Repla...|        Outdoors|          2|            0|          0|   N|                Y|I received this p...|I received this p...| 2015-08-31|\n",
            "+-----------+-----------+--------------+----------+--------------+--------------------+----------------+-----------+-------------+-----------+----+-----------------+--------------------+--------------------+-----------+\n",
            "only showing top 20 rows\n",
            "\n"
          ]
        }
      ]
    },
    {
      "cell_type": "code",
      "source": [
        "#Drop null values\n",
        "dropna_df = df.dropna()"
      ],
      "metadata": {
        "id": "jQQiWxBFhuky"
      },
      "execution_count": 4,
      "outputs": []
    },
    {
      "cell_type": "code",
      "source": [
        "# Create the vine DataFrame\n",
        "selected_df = dropna_df.select([\"review_id\", \"star_rating\", \"helpful_votes\", \"total_votes\", \"vine\", \"verified_purchase\"])\n",
        "selected_df.show()"
      ],
      "metadata": {
        "colab": {
          "base_uri": "https://localhost:8080/"
        },
        "id": "8Aj8sQaSeHiF",
        "outputId": "a002d25e-0c01-4349-fd86-20a6bae5c0ae"
      },
      "execution_count": 5,
      "outputs": [
        {
          "output_type": "stream",
          "name": "stdout",
          "text": [
            "+--------------+-----------+-------------+-----------+----+-----------------+\n",
            "|     review_id|star_rating|helpful_votes|total_votes|vine|verified_purchase|\n",
            "+--------------+-----------+-------------+-----------+----+-----------------+\n",
            "|R35T75OLUGHL5C|          4|            0|          0|   N|                Y|\n",
            "|R2BV735O46BN33|          5|            0|          0|   N|                Y|\n",
            "|R2NBEUGPQQGXP1|          4|            0|          0|   N|                Y|\n",
            "|R17LLAOJ8ITK0S|          3|            1|          1|   N|                Y|\n",
            "|R39PEQBT5ISEF4|          1|            0|          0|   N|                Y|\n",
            "|R3GNM3SU9VHJFT|          4|            1|          1|   N|                Y|\n",
            "| R2Y81OP0EK467|          5|            0|          0|   N|                Y|\n",
            "|R2LFGSI6HAYH5F|          5|            1|          1|   N|                Y|\n",
            "|R297G6ED1IQO7W|          5|            1|          1|   N|                Y|\n",
            "| RE27RFC6101N6|          5|            0|          0|   N|                Y|\n",
            "|R3BPDME6E94W8Z|          5|            0|          0|   N|                Y|\n",
            "|R2P08O1RILUOX3|          3|            0|          0|   N|                Y|\n",
            "|R37CVAB03PTDVI|          5|            0|          1|   N|                Y|\n",
            "| RAWNWOGXPCPMD|          5|            0|          0|   N|                Y|\n",
            "| R5DYGP6ASX77M|          5|            0|          0|   N|                Y|\n",
            "|R1O0SAOOGF2KG7|          4|            0|          0|   N|                Y|\n",
            "|R35NJUT0U3MU3V|          5|            0|          0|   N|                Y|\n",
            "|R242C08MF9D1AH|          5|            0|          0|   N|                Y|\n",
            "| R3RYG8TJTO4E2|          5|            0|          0|   N|                Y|\n",
            "|R3IKH1DNY0CP9F|          2|            0|          0|   N|                Y|\n",
            "+--------------+-----------+-------------+-----------+----+-----------------+\n",
            "only showing top 20 rows\n",
            "\n"
          ]
        }
      ]
    },
    {
      "cell_type": "code",
      "source": [
        "# Filter the vine_df for total votes >= 20\n",
        "total_votes_df = selected_df.filter(\"total_votes >= 20\")\n",
        "total_votes_df.show()"
      ],
      "metadata": {
        "colab": {
          "base_uri": "https://localhost:8080/"
        },
        "id": "8k87zsTSeHlP",
        "outputId": "da829423-fe44-4bf6-9c88-0002bf3550a2"
      },
      "execution_count": 6,
      "outputs": [
        {
          "output_type": "stream",
          "name": "stdout",
          "text": [
            "+--------------+-----------+-------------+-----------+----+-----------------+\n",
            "|     review_id|star_rating|helpful_votes|total_votes|vine|verified_purchase|\n",
            "+--------------+-----------+-------------+-----------+----+-----------------+\n",
            "|R2FP3U4NHNFNL2|          5|           25|         29|   N|                Y|\n",
            "|R1UUK1977O38MU|          5|           31|         31|   N|                Y|\n",
            "| RXO216LWUDV6O|          3|           29|         31|   N|                Y|\n",
            "|R3NMJF7EBMM19V|          3|           26|         27|   N|                Y|\n",
            "|R2ZY0ZBDUO0XUY|          3|           20|         21|   N|                Y|\n",
            "| RBDVHX7PMQEKM|          5|           35|         39|   N|                Y|\n",
            "| RGO3KSDXYWTGU|          4|           26|         26|   N|                Y|\n",
            "|R2O4P39D0ALCQK|          2|           14|         43|   N|                Y|\n",
            "|R1E1PQGHWGO3Q1|          1|           89|         96|   N|                Y|\n",
            "|R1XOXXUVYZEDJB|          5|           22|         22|   N|                Y|\n",
            "| R7SHITUU5UG9U|          5|           27|         27|   N|                Y|\n",
            "|R230TLHU91M5Y3|          4|           21|         21|   N|                Y|\n",
            "| RHR5MKO23K9TU|          5|           26|         30|   N|                Y|\n",
            "|R1HGK3TCY161D7|          5|           52|         55|   N|                N|\n",
            "|R340QYAVNZZHJA|          4|           25|         25|   N|                N|\n",
            "|R2F1UVQK0JL4QH|          3|           20|         20|   N|                Y|\n",
            "|R1N21UY546VWMN|          2|           48|         50|   N|                Y|\n",
            "|R1E4L344EK0ZOT|          5|           20|         26|   N|                N|\n",
            "|R282QUZDDJW3ON|          4|           45|         49|   N|                Y|\n",
            "|R3H5T3T7QY3ZL2|          5|          247|        263|   N|                Y|\n",
            "+--------------+-----------+-------------+-----------+----+-----------------+\n",
            "only showing top 20 rows\n",
            "\n"
          ]
        }
      ]
    },
    {
      "cell_type": "code",
      "source": [
        "# Filter again for all rows where the helpful votes are >= 50% of the total votes\n",
        "helpful_votes_df = total_votes_df.filter(\"helpful_votes / total_votes >= 0.5\")\n",
        "helpful_votes_df.show()"
      ],
      "metadata": {
        "colab": {
          "base_uri": "https://localhost:8080/"
        },
        "id": "OUqbRR5aeHov",
        "outputId": "3d030fd6-2a03-4f2a-fd22-94fa7cd12ad8"
      },
      "execution_count": 7,
      "outputs": [
        {
          "output_type": "stream",
          "name": "stdout",
          "text": [
            "+--------------+-----------+-------------+-----------+----+-----------------+\n",
            "|     review_id|star_rating|helpful_votes|total_votes|vine|verified_purchase|\n",
            "+--------------+-----------+-------------+-----------+----+-----------------+\n",
            "|R2FP3U4NHNFNL2|          5|           25|         29|   N|                Y|\n",
            "|R1UUK1977O38MU|          5|           31|         31|   N|                Y|\n",
            "| RXO216LWUDV6O|          3|           29|         31|   N|                Y|\n",
            "|R3NMJF7EBMM19V|          3|           26|         27|   N|                Y|\n",
            "|R2ZY0ZBDUO0XUY|          3|           20|         21|   N|                Y|\n",
            "| RBDVHX7PMQEKM|          5|           35|         39|   N|                Y|\n",
            "| RGO3KSDXYWTGU|          4|           26|         26|   N|                Y|\n",
            "|R1E1PQGHWGO3Q1|          1|           89|         96|   N|                Y|\n",
            "|R1XOXXUVYZEDJB|          5|           22|         22|   N|                Y|\n",
            "| R7SHITUU5UG9U|          5|           27|         27|   N|                Y|\n",
            "|R230TLHU91M5Y3|          4|           21|         21|   N|                Y|\n",
            "| RHR5MKO23K9TU|          5|           26|         30|   N|                Y|\n",
            "|R1HGK3TCY161D7|          5|           52|         55|   N|                N|\n",
            "|R340QYAVNZZHJA|          4|           25|         25|   N|                N|\n",
            "|R2F1UVQK0JL4QH|          3|           20|         20|   N|                Y|\n",
            "|R1N21UY546VWMN|          2|           48|         50|   N|                Y|\n",
            "|R1E4L344EK0ZOT|          5|           20|         26|   N|                N|\n",
            "|R282QUZDDJW3ON|          4|           45|         49|   N|                Y|\n",
            "|R3H5T3T7QY3ZL2|          5|          247|        263|   N|                Y|\n",
            "|R3W1A1P95IIGHX|          5|           23|         25|   N|                N|\n",
            "+--------------+-----------+-------------+-----------+----+-----------------+\n",
            "only showing top 20 rows\n",
            "\n"
          ]
        }
      ]
    },
    {
      "cell_type": "code",
      "source": [
        "# Create a new DataFrame that filters the helpful_votes_df for rows that are a part of the vine program\n",
        "paid_df = helpful_votes_df.filter(\"vine == 'Y'\")\n",
        "paid_df.show()"
      ],
      "metadata": {
        "colab": {
          "base_uri": "https://localhost:8080/"
        },
        "id": "pAyz3TXbeHrT",
        "outputId": "78a52753-99ac-49c3-a34f-dba891581f60"
      },
      "execution_count": 10,
      "outputs": [
        {
          "output_type": "stream",
          "name": "stdout",
          "text": [
            "+--------------+-----------+-------------+-----------+----+-----------------+\n",
            "|     review_id|star_rating|helpful_votes|total_votes|vine|verified_purchase|\n",
            "+--------------+-----------+-------------+-----------+----+-----------------+\n",
            "|R3KPC0NBUDASX3|          5|           25|         25|   Y|                N|\n",
            "|R119P2A95GGXX4|          5|           26|         28|   Y|                N|\n",
            "|R1HKIRME8AJ89Z|          5|           79|         82|   Y|                N|\n",
            "|R3FY3GMBGOBR22|          5|           12|         20|   Y|                N|\n",
            "|R15KH3FBSVYGBU|          5|           32|         37|   Y|                N|\n",
            "|R22XZEQLVLWW49|          5|           28|         33|   Y|                N|\n",
            "|R2OIQYVAL9D63R|          4|           59|         65|   Y|                N|\n",
            "|R1W3KCDHM6BMZT|          4|           37|         38|   Y|                N|\n",
            "|R3KDMPS96IJ10R|          2|           15|         21|   Y|                N|\n",
            "|R1XWEI58A7VKLB|          5|          123|        128|   Y|                N|\n",
            "|R1CJWM6CMWKSA1|          4|           31|         33|   Y|                N|\n",
            "|R39I3FUDBKZM3Y|          5|           34|         38|   Y|                N|\n",
            "|R32LU0KSL7QWSF|          5|           35|         37|   Y|                N|\n",
            "|R2LGDXO3MG2WQW|          5|           37|         41|   Y|                N|\n",
            "|R16AVI2NTYWLKI|          5|           31|         33|   Y|                N|\n",
            "|R12K0ITIV6AYM3|          5|           34|         34|   Y|                N|\n",
            "| R9ILZLNNK93CO|          5|           38|         39|   Y|                N|\n",
            "|R1CS8VSI1KSR1P|          5|           21|         22|   Y|                N|\n",
            "|R186TCIH8TEGPY|          5|           40|         43|   Y|                N|\n",
            "| R3GBQRR2GY4SP|          4|          119|        125|   Y|                N|\n",
            "+--------------+-----------+-------------+-----------+----+-----------------+\n",
            "only showing top 20 rows\n",
            "\n"
          ]
        }
      ]
    },
    {
      "cell_type": "code",
      "source": [
        "# Create a new DataFrame that filters the helpful_votes_df for rows that are *NOT* a part of the vine program\n",
        "unpaid_df = helpful_votes_df.filter(\"vine == 'N'\")\n",
        "unpaid_df.show()"
      ],
      "metadata": {
        "colab": {
          "base_uri": "https://localhost:8080/"
        },
        "id": "jv_7OwZweHuR",
        "outputId": "47e32db2-a7ae-4d36-b869-6abf5a020230"
      },
      "execution_count": 11,
      "outputs": [
        {
          "output_type": "stream",
          "name": "stdout",
          "text": [
            "+--------------+-----------+-------------+-----------+----+-----------------+\n",
            "|     review_id|star_rating|helpful_votes|total_votes|vine|verified_purchase|\n",
            "+--------------+-----------+-------------+-----------+----+-----------------+\n",
            "|R2FP3U4NHNFNL2|          5|           25|         29|   N|                Y|\n",
            "|R1UUK1977O38MU|          5|           31|         31|   N|                Y|\n",
            "| RXO216LWUDV6O|          3|           29|         31|   N|                Y|\n",
            "|R3NMJF7EBMM19V|          3|           26|         27|   N|                Y|\n",
            "|R2ZY0ZBDUO0XUY|          3|           20|         21|   N|                Y|\n",
            "| RBDVHX7PMQEKM|          5|           35|         39|   N|                Y|\n",
            "| RGO3KSDXYWTGU|          4|           26|         26|   N|                Y|\n",
            "|R1E1PQGHWGO3Q1|          1|           89|         96|   N|                Y|\n",
            "|R1XOXXUVYZEDJB|          5|           22|         22|   N|                Y|\n",
            "| R7SHITUU5UG9U|          5|           27|         27|   N|                Y|\n",
            "|R230TLHU91M5Y3|          4|           21|         21|   N|                Y|\n",
            "| RHR5MKO23K9TU|          5|           26|         30|   N|                Y|\n",
            "|R1HGK3TCY161D7|          5|           52|         55|   N|                N|\n",
            "|R340QYAVNZZHJA|          4|           25|         25|   N|                N|\n",
            "|R2F1UVQK0JL4QH|          3|           20|         20|   N|                Y|\n",
            "|R1N21UY546VWMN|          2|           48|         50|   N|                Y|\n",
            "|R1E4L344EK0ZOT|          5|           20|         26|   N|                N|\n",
            "|R282QUZDDJW3ON|          4|           45|         49|   N|                Y|\n",
            "|R3H5T3T7QY3ZL2|          5|          247|        263|   N|                Y|\n",
            "|R3W1A1P95IIGHX|          5|           23|         25|   N|                N|\n",
            "+--------------+-----------+-------------+-----------+----+-----------------+\n",
            "only showing top 20 rows\n",
            "\n"
          ]
        }
      ]
    },
    {
      "cell_type": "code",
      "source": [
        "# Determine the total number of paid reviews\n",
        "total_paid = paid_df.count()\n",
        "total_paid"
      ],
      "metadata": {
        "colab": {
          "base_uri": "https://localhost:8080/"
        },
        "id": "DOiQbt5peHxT",
        "outputId": "5b7b2c42-9287-4e8e-94a4-6690a6ab721a"
      },
      "execution_count": 22,
      "outputs": [
        {
          "output_type": "execute_result",
          "data": {
            "text/plain": [
              "107"
            ]
          },
          "metadata": {},
          "execution_count": 22
        }
      ]
    },
    {
      "cell_type": "code",
      "source": [
        "# Find the number of five star paid reviews\n",
        "paid_five_star = paid_df.filter(\"star_rating == 5\").count()\n",
        "paid_five_star"
      ],
      "metadata": {
        "colab": {
          "base_uri": "https://localhost:8080/"
        },
        "id": "6UfX6r8oeH7Y",
        "outputId": "4b8470b6-40e0-42dd-910d-29f54373e392"
      },
      "execution_count": 21,
      "outputs": [
        {
          "output_type": "execute_result",
          "data": {
            "text/plain": [
              "56"
            ]
          },
          "metadata": {},
          "execution_count": 21
        }
      ]
    },
    {
      "cell_type": "code",
      "source": [
        "# Find the percentage of paid 5-star reviews\n",
        "paid_five_star_percentage = paid_five_star / total_paid * 100\n",
        "paid_five_star_percentage"
      ],
      "metadata": {
        "colab": {
          "base_uri": "https://localhost:8080/"
        },
        "id": "7jChejeHeIWk",
        "outputId": "f292bcc2-dd45-4550-a427-91cf435e7a15"
      },
      "execution_count": 23,
      "outputs": [
        {
          "output_type": "execute_result",
          "data": {
            "text/plain": [
              "52.336448598130836"
            ]
          },
          "metadata": {},
          "execution_count": 23
        }
      ]
    },
    {
      "cell_type": "code",
      "source": [
        "# Determine the total number of unpaid reviews\n",
        "total_unpaid = unpaid_df.count()\n",
        "total_unpaid"
      ],
      "metadata": {
        "colab": {
          "base_uri": "https://localhost:8080/"
        },
        "id": "6cRNSJXEeH2W",
        "outputId": "86780a2b-9f8c-45b8-dc40-2133437783ea"
      },
      "execution_count": 24,
      "outputs": [
        {
          "output_type": "execute_result",
          "data": {
            "text/plain": [
              "39850"
            ]
          },
          "metadata": {},
          "execution_count": 24
        }
      ]
    },
    {
      "cell_type": "code",
      "source": [
        "# Find the number of five star paid reviews\n",
        "unpaid_five_star = unpaid_df.filter(\"star_rating == 5\").count()\n",
        "unpaid_five_star"
      ],
      "metadata": {
        "colab": {
          "base_uri": "https://localhost:8080/"
        },
        "id": "h4oXXtUOeIZa",
        "outputId": "46fcf50a-a01d-40de-a9d6-7b4b3603bad0"
      },
      "execution_count": 25,
      "outputs": [
        {
          "output_type": "execute_result",
          "data": {
            "text/plain": [
              "20996"
            ]
          },
          "metadata": {},
          "execution_count": 25
        }
      ]
    },
    {
      "cell_type": "code",
      "source": [
        "# Find the percentage of paid 5-star reviews\n",
        "unpaid_five_star_percentage = unpaid_five_star / total_unpaid * 100\n",
        "unpaid_five_star_percentage"
      ],
      "metadata": {
        "colab": {
          "base_uri": "https://localhost:8080/"
        },
        "id": "M4QtaX_WeIcj",
        "outputId": "3f8f8153-be60-42bb-fef4-a000f43778ec"
      },
      "execution_count": 26,
      "outputs": [
        {
          "output_type": "execute_result",
          "data": {
            "text/plain": [
              "52.68757841907152"
            ]
          },
          "metadata": {},
          "execution_count": 26
        }
      ]
    },
    {
      "cell_type": "code",
      "source": [],
      "metadata": {
        "id": "C_gXgU_1dkwk"
      },
      "execution_count": 7,
      "outputs": []
    },
    {
      "cell_type": "code",
      "source": [],
      "metadata": {
        "id": "YdKuAIqudk2C"
      },
      "execution_count": 7,
      "outputs": []
    }
  ]
}